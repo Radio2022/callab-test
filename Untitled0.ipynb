{
  "nbformat": 4,
  "nbformat_minor": 0,
  "metadata": {
    "colab": {
      "name": "Untitled0.ipynb",
      "provenance": [],
      "collapsed_sections": [],
      "authorship_tag": "ABX9TyMbFHIfxknYCEle5uHQZ3Na",
      "include_colab_link": true
    },
    "kernelspec": {
      "name": "python3",
      "display_name": "Python 3"
    },
    "language_info": {
      "name": "python"
    }
  },
  "cells": [
    {
      "cell_type": "markdown",
      "metadata": {
        "id": "view-in-github",
        "colab_type": "text"
      },
      "source": [
        "<a href=\"https://colab.research.google.com/github/Radio2022/callab-test/blob/main/Untitled0.ipynb\" target=\"_parent\"><img src=\"https://colab.research.google.com/assets/colab-badge.svg\" alt=\"Open In Colab\"/></a>"
      ]
    },
    {
      "cell_type": "code",
      "source": [
        "\n",
        "#for sum\n",
        "A=float(input(\"enter a number\")) \n",
        "B=float(input(\"enter a number\")) \n",
        "X=A+B\n",
        "print(X)"
      ],
      "metadata": {
        "id": "VqE90GcAhaGh",
        "colab": {
          "base_uri": "https://localhost:8080/"
        },
        "outputId": "ef222a80-0043-40e3-dd0a-484068f8b340"
      },
      "execution_count": null,
      "outputs": [
        {
          "output_type": "stream",
          "name": "stdout",
          "text": [
            "enter a number78\n",
            "enter a number87\n",
            "165.0\n"
          ]
        }
      ]
    },
    {
      "cell_type": "code",
      "source": [
        "#for factorial\n",
        "def f(n) :\n",
        "  if n<0:\n",
        "    return 0\n",
        "  elif n==1 or n==0:\n",
        "    return 1\n",
        "  else:\n",
        "    F=1\n",
        "    while(n>1):\n",
        "      F*=n\n",
        "      n-=1\n",
        "    return F\n",
        "num=float(input(\"enter a number\")) \n",
        "print(\"Factorial of \",num,\" is\",f(num))"
      ],
      "metadata": {
        "colab": {
          "base_uri": "https://localhost:8080/"
        },
        "id": "xn_G-pmCvu5D",
        "outputId": "dd9a47be-ac34-4382-c066-4fd502696e13"
      },
      "execution_count": null,
      "outputs": [
        {
          "output_type": "stream",
          "name": "stdout",
          "text": [
            "enter a number0\n",
            "Factorial of  0.0  is 1\n"
          ]
        }
      ]
    },
    {
      "cell_type": "code",
      "source": [
        ""
      ],
      "metadata": {
        "id": "Y9B7H88HvsCg"
      },
      "execution_count": null,
      "outputs": []
    }
  ]
}